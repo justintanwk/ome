{
 "metadata": {
  "name": "",
  "signature": "sha256:8d9f10a6a7607f2a532102b8db030965978f26360f148e3e67b3e0857c24b9f5"
 },
 "nbformat": 3,
 "nbformat_minor": 0,
 "worksheets": [
  {
   "cells": [
    {
     "cell_type": "code",
     "collapsed": false,
     "input": [
      "from ome import base, settings\n",
      "from ome.components import *\n",
      "from ome.datasets import *\n",
      "from ome.util import *\n",
      "\n",
      "from IPython.display import Javascript\n",
      "\n",
      "session = base.Session()\n",
      "\n",
      "ged = GeneExpressionData\n",
      "dged = DifferentialGeneExpressionData\n",
      "cpge = ChIPPeakGeneExpression"
     ],
     "language": "python",
     "metadata": {},
     "outputs": [],
     "prompt_number": 1
    },
    {
     "cell_type": "markdown",
     "metadata": {},
     "source": [
      "[SQL Alchemy querying documentation](http://docs.sqlalchemy.org/en/rel_0_9/orm/query.html)"
     ]
    },
    {
     "cell_type": "heading",
     "level": 3,
     "metadata": {},
     "source": [
      "Gene Expression Data"
     ]
    },
    {
     "cell_type": "markdown",
     "metadata": {},
     "source": [
      "| locus_id | gene_name | fold_change |   stddev |  strain | carbon_source | nitrogen_source | electron_acceptor | supplements | dataset_type         |     \n",
      "|----------|-----------|-------------|----------|---------|---------------|-----------------|-------------------|-------------|----------------------|\n",
      "|  b0001   |   thrL    |   2.1       |   .012   |    wt   |  glucose      |     NH4Cl       |     O2            |    thiamine |     array_experiment |"
     ]
    },
    {
     "cell_type": "code",
     "collapsed": false,
     "input": [
      "session.query(ged).filter(ged.gene_name == 'glpK').all()"
     ],
     "language": "python",
     "metadata": {},
     "outputs": [
      {
       "metadata": {},
       "output_type": "pyout",
       "prompt_number": 2,
       "text": [
        "[]"
       ]
      }
     ],
     "prompt_number": 2
    },
    {
     "cell_type": "code",
     "collapsed": false,
     "input": [
      "session.query(ged).filter(and_(ged.gene_name == 'glpK',\n",
      "                               ged.carbon_source == 'acetate')).all()"
     ],
     "language": "python",
     "metadata": {},
     "outputs": [
      {
       "metadata": {},
       "output_type": "pyout",
       "prompt_number": 11,
       "text": [
        "[Gene: (b3926, glpK), Value:  9.51, std: 0.21, Condition: acetate, NH4Cl, O2, Strain: wt, array_experiment,\n",
        " Gene: (b3926, glpK), Value:  9.24, std: 0.16, Condition: acetate, NH4Cl, O2, Strain: delta-cra, array_experiment,\n",
        " Gene: (b3926, glpK), Value: 150.36, std:25.22, Condition: acetate, NH4Cl, O2, Strain: bw25113, rnaseq_experiment]"
       ]
      }
     ],
     "prompt_number": 11
    },
    {
     "cell_type": "code",
     "collapsed": false,
     "input": [
      "session.query(ged).filter(and_(ged.gene_name == 'glpK',\n",
      "                               ged.carbon_source == 'glucose',\n",
      "                               ged.strain == 'wt')).all()"
     ],
     "language": "python",
     "metadata": {},
     "outputs": [
      {
       "metadata": {},
       "output_type": "pyout",
       "prompt_number": 12,
       "text": [
        "[Gene: (b3926, glpK), Value:  2.25, std: 0.00, Condition: glucose, NH4Cl, anaerobic, Strain: wt, array_experiment,\n",
        " Gene: (b3926, glpK), Value:  2.25, std: 0.00, Condition: glucose, NH4Cl, O2, Strain: wt, array_experiment,\n",
        " Gene: (b3926, glpK), Value:  2.25, std: 0.00, Condition: glucose, NH4Cl, NO3, Strain: wt, array_experiment,\n",
        " Gene: (b3926, glpK), Value:  2.62, std: 0.06, Condition: glucose, NH4Cl, O2, Strain: wt, array_experiment,\n",
        " Gene: (b3926, glpK), Value:  3.21, std: 0.06, Condition: glucose, leucine, O2, Strain: wt, array_experiment,\n",
        " Gene: (b3926, glpK), Value:  2.48, std: 0.03, Condition: glucose, adenine, O2, Strain: wt, array_experiment,\n",
        " Gene: (b3926, glpK), Value: 117.22, std:88.52, Condition: glucose, NH4Cl, O2, Strain: wt, rnaseq_experiment,\n",
        " Gene: (b3926, glpK), Value: 118.59, std: 7.89, Condition: glucose, NH4Cl, O2, Strain: wt, rnaseq_experiment,\n",
        " Gene: (b3926, glpK), Value: 44.85, std: 0.92, Condition: glucose, NH4Cl, O2, Strain: wt, rnaseq_experiment,\n",
        " Gene: (b3926, glpK), Value: 49.15, std: 5.54, Condition: glucose, cytidine, O2, Strain: wt, rnaseq_experiment,\n",
        " Gene: (b3926, glpK), Value: 47.09, std: 2.65, Condition: glucose, cytosine, O2, Strain: wt, rnaseq_experiment,\n",
        " Gene: (b3926, glpK), Value: 47.59, std:12.80, Condition: glucose, glutamine, O2, Strain: wt, rnaseq_experiment]"
       ]
      }
     ],
     "prompt_number": 12
    },
    {
     "cell_type": "heading",
     "level": 3,
     "metadata": {},
     "source": [
      "Differential Gene Expression Data"
     ]
    },
    {
     "cell_type": "markdown",
     "metadata": {},
     "source": [
      "| locus_id | gene_name | fold_change |   pval |  strain1 | strain2 | carbon_source1 | carbon_source2 | nitrogen_source1 | nitrogen_source2 | electron_acceptor1 | electron_acceptor2 | \n",
      "|----------|-----------|-------------|--------|----------|---------|---- -----------|----------------|------------------|------------------|--------------------|--------------------|\n",
      "|  b0001   |   thrL    |   2.1       |   .012 |    wt    |   wt    |   glucose      |  acetate       |    NH4Cl         |   NH4Cl          |    O2              |    O2              |     "
     ]
    },
    {
     "cell_type": "code",
     "collapsed": false,
     "input": [
      "session.query(dged).filter(and_(dged.gene_name.in_(['sucA','sucB']),\n",
      "                               dged.carbon_source1 == 'fructose')).all()"
     ],
     "language": "python",
     "metadata": {},
     "outputs": [
      {
       "metadata": {},
       "output_type": "pyout",
       "prompt_number": 5,
       "text": [
        "[Gene: (b0726, sucA), delta-crp/wt, fructose, NH4Cl, O2, Fold Change:  2.47, FDR:  0.00,\n",
        " Gene: (b0726, sucA), wt, fructose/glucose, NH4Cl, O2, Fold Change: -1.78, FDR:  0.03,\n",
        " Gene: (b0726, sucA), delta-crp, fructose/glucose, NH4Cl, O2, Fold Change:  0.67, FDR:  0.20,\n",
        " Gene: (b0726, sucA), delta-crp, fructose/glucose, NH4Cl, O2, Fold Change:  0.06, FDR:  0.94,\n",
        " Gene: (b0727, sucB), delta-crp/wt, fructose, NH4Cl, O2, Fold Change:  2.38, FDR:  0.00,\n",
        " Gene: (b0727, sucB), wt, fructose/glucose, NH4Cl, O2, Fold Change: -1.70, FDR:  0.03,\n",
        " Gene: (b0727, sucB), delta-crp, fructose/glucose, NH4Cl, O2, Fold Change:  0.62, FDR:  0.21,\n",
        " Gene: (b0727, sucB), delta-crp, fructose/glucose, NH4Cl, O2, Fold Change: -0.06, FDR:  0.34]"
       ]
      }
     ],
     "prompt_number": 5
    },
    {
     "cell_type": "code",
     "collapsed": false,
     "input": [
      "session.query(dged.value).filter(dged.gene_name.in_(['sucA','sucB'])).all()"
     ],
     "language": "python",
     "metadata": {},
     "outputs": [
      {
       "metadata": {},
       "output_type": "pyout",
       "prompt_number": 8,
       "text": [
        "[(-1.05668),\n",
        " (-1.05668),\n",
        " (1.07965),\n",
        " (1.07965),\n",
        " (-1.10332),\n",
        " (-1.10332),\n",
        " (2.4661),\n",
        " (2.4661),\n",
        " (1.87877),\n",
        " (1.87877),\n",
        " (-1.16853),\n",
        " (-1.16853),\n",
        " (-0.909772),\n",
        " (-0.909772),\n",
        " (-0.839486),\n",
        " (-0.839486),\n",
        " (-1.89617),\n",
        " (-1.89617),\n",
        " (2.49735),\n",
        " (2.49735),\n",
        " (0.875101),\n",
        " (0.875101),\n",
        " (1.8707),\n",
        " (1.8707),\n",
        " (-1.77703),\n",
        " (-1.77703),\n",
        " (-2.263),\n",
        " (-2.263),\n",
        " (-0.915208),\n",
        " (-0.915208),\n",
        " (1.43034),\n",
        " (1.43034),\n",
        " (0.674504),\n",
        " (0.674504),\n",
        " (0.0555931204215137),\n",
        " (0.0555931204215137),\n",
        " (-0.0963324849803397),\n",
        " (-0.0963324849803397),\n",
        " (-0.121869437206573),\n",
        " (-0.121869437206573),\n",
        " (0.968127),\n",
        " (0.968127),\n",
        " (-1.05049),\n",
        " (-1.05049),\n",
        " (2.38132),\n",
        " (2.38132),\n",
        " (2.18729),\n",
        " (2.18729),\n",
        " (0.920698),\n",
        " (0.920698),\n",
        " (-0.882855),\n",
        " (-0.882855),\n",
        " (-1.05183),\n",
        " (-1.05183),\n",
        " (-0.724741),\n",
        " (-0.724741),\n",
        " (-1.30119),\n",
        " (-1.30119),\n",
        " (1.48282),\n",
        " (1.48282),\n",
        " (0.859946),\n",
        " (0.859946),\n",
        " (1.02505),\n",
        " (1.02505),\n",
        " (1.84566),\n",
        " (1.84566),\n",
        " (-1.69757),\n",
        " (-1.69757),\n",
        " (-1.98902),\n",
        " (-1.98902),\n",
        " (-0.755685),\n",
        " (-0.755685),\n",
        " (0.846023),\n",
        " (0.846023),\n",
        " (0.618829),\n",
        " (0.618829),\n",
        " (-0.0637467552658677),\n",
        " (-0.0637467552658677),\n",
        " (-1.83071300300125),\n",
        " (-1.83071300300125),\n",
        " (0.364897356589321),\n",
        " (0.364897356589321)]"
       ]
      }
     ],
     "prompt_number": 8
    },
    {
     "cell_type": "heading",
     "level": 3,
     "metadata": {},
     "source": [
      "ChIP Peak Gene Expression "
     ]
    },
    {
     "cell_type": "markdown",
     "metadata": {},
     "source": [
      "| locus_id | gene_name | fold_change |   pval |  target | leftpos | rightpos |  peak_value |strain1 | strain2   | carbon_source1 | nitrogen_source | electron_acceptor |\n",
      "|----------|-----------|-------------|--------|---------|---------|--------- |-------------|--------|-----------|----------------|-----------------|-------------------|\n",
      "|  b0001   |   thrL    |   2.1       |   .012 |    ArcA |  192990 |  193015  |      876.3  |wt      |delta-arcA |   glucose      |   NH4Cl         |       anaerobic   |     "
     ]
    },
    {
     "cell_type": "code",
     "collapsed": false,
     "input": [
      "session.query(cpge).filter(cpge.gene_name.ilike('glp%')).all()"
     ],
     "language": "python",
     "metadata": {},
     "outputs": [
      {
       "metadata": {},
       "output_type": "pyout",
       "prompt_number": 21,
       "text": [
        "[TF: Crp, Gene: (glpX, b3925),  0.65,  0.23 wt-->delta-crp Condition: fructose, NH4Cl, O2 Peak: 4115765-4115966 value:12806.00,\n",
        " TF: Crp, Gene: (glpK, b3926), -1.82,  0.00 wt-->delta-crp Condition: fructose, NH4Cl, O2 Peak: 4115765-4115966 value:12806.00,\n",
        " TF: Crp, Gene: (glpX, b3925),  0.89,  0.21 wt-->delta-crp Condition: glycerol, NH4Cl, O2 Peak: 4115764-4115965 value:4585.00,\n",
        " TF: Crp, Gene: (glpX, b3925),  0.89,  0.21 wt-->delta-crp Condition: glycerol, NH4Cl, O2 Peak: 4116073-4116274 value:14009.00,\n",
        " TF: Crp, Gene: (glpX, b3925),  0.89,  0.21 wt-->delta-crp Condition: glycerol, NH4Cl, O2 Peak: 4115764-4115965 value:17469.00,\n",
        " TF: Crp, Gene: (glpX, b3925),  0.89,  0.21 wt-->delta-crp Condition: glycerol, NH4Cl, O2 Peak: 4115765-4115966 value:6228.00,\n",
        " TF: Crp, Gene: (glpK, b3926),  1.49,  0.05 wt-->delta-crp Condition: glycerol, NH4Cl, O2 Peak: 4115764-4115965 value:4585.00,\n",
        " TF: Crp, Gene: (glpK, b3926),  1.49,  0.05 wt-->delta-crp Condition: glycerol, NH4Cl, O2 Peak: 4116073-4116274 value:14009.00,\n",
        " TF: Crp, Gene: (glpK, b3926),  1.49,  0.05 wt-->delta-crp Condition: glycerol, NH4Cl, O2 Peak: 4115764-4115965 value:17469.00,\n",
        " TF: Crp, Gene: (glpK, b3926),  1.49,  0.05 wt-->delta-crp Condition: glycerol, NH4Cl, O2 Peak: 4115765-4115966 value:6228.00,\n",
        " TF: Crp, Gene: (glpF, b3927), -1.52,  0.01 wt-->delta-crp Condition: fructose, NH4Cl, O2 Peak: 4115765-4115966 value:12806.00,\n",
        " TF: Crp, Gene: (glpB, b2242),  4.06,  0.23 wt-->delta-crp Condition: glycerol, NH4Cl, O2 Peak: 2350360-2350561 value:15438.80,\n",
        " TF: Crp, Gene: (glpB, b2242),  4.06,  0.23 wt-->delta-crp Condition: glycerol, NH4Cl, O2 Peak: 2350274-2350475 value:8230.70,\n",
        " TF: Crp, Gene: (glpB, b2242),  4.06,  0.23 wt-->delta-crp Condition: glycerol, NH4Cl, O2 Peak: 2350199-2350400 value:9544.40,\n",
        " TF: Crp, Gene: (glpB, b2242),  4.06,  0.23 wt-->delta-crp Condition: glycerol, NH4Cl, O2 Peak: 2350370-2350571 value:13455.50,\n",
        " TF: Crp, Gene: (glpB, b2242),  4.06,  0.23 wt-->delta-crp Condition: glycerol, NH4Cl, O2 Peak: 2350378-2350579 value:15475.90,\n",
        " TF: Crp, Gene: (glpB, b2242),  4.06,  0.23 wt-->delta-crp Condition: glycerol, NH4Cl, O2 Peak: 2350513-2350714 value:23854.80,\n",
        " TF: Crp, Gene: (glpF, b3927),  2.94,  0.00 wt-->delta-crp Condition: glycerol, NH4Cl, O2 Peak: 4115764-4115965 value:4585.00,\n",
        " TF: Crp, Gene: (glpF, b3927),  2.94,  0.00 wt-->delta-crp Condition: glycerol, NH4Cl, O2 Peak: 4116073-4116274 value:14009.00,\n",
        " TF: Crp, Gene: (glpF, b3927),  2.94,  0.00 wt-->delta-crp Condition: glycerol, NH4Cl, O2 Peak: 4115764-4115965 value:17469.00,\n",
        " TF: Crp, Gene: (glpF, b3927),  2.94,  0.00 wt-->delta-crp Condition: glycerol, NH4Cl, O2 Peak: 4115765-4115966 value:6228.00,\n",
        " TF: Crp, Gene: (glpQ, b2239),  4.99,  0.00 wt-->delta-crp Condition: glycerol, NH4Cl, O2 Peak: 2350360-2350561 value:15438.80,\n",
        " TF: Crp, Gene: (glpQ, b2239),  4.99,  0.00 wt-->delta-crp Condition: glycerol, NH4Cl, O2 Peak: 2350274-2350475 value:8230.70,\n",
        " TF: Crp, Gene: (glpQ, b2239),  4.99,  0.00 wt-->delta-crp Condition: glycerol, NH4Cl, O2 Peak: 2350199-2350400 value:9544.40,\n",
        " TF: Crp, Gene: (glpQ, b2239),  4.99,  0.00 wt-->delta-crp Condition: glycerol, NH4Cl, O2 Peak: 2350370-2350571 value:13455.50,\n",
        " TF: Crp, Gene: (glpQ, b2239),  4.99,  0.00 wt-->delta-crp Condition: glycerol, NH4Cl, O2 Peak: 2350378-2350579 value:15475.90,\n",
        " TF: Crp, Gene: (glpQ, b2239),  4.99,  0.00 wt-->delta-crp Condition: glycerol, NH4Cl, O2 Peak: 2350513-2350714 value:23854.80,\n",
        " TF: Crp, Gene: (glpT, b2240),  7.11,  0.00 wt-->delta-crp Condition: glycerol, NH4Cl, O2 Peak: 2350360-2350561 value:15438.80,\n",
        " TF: Crp, Gene: (glpT, b2240),  7.11,  0.00 wt-->delta-crp Condition: glycerol, NH4Cl, O2 Peak: 2350274-2350475 value:8230.70,\n",
        " TF: Crp, Gene: (glpT, b2240),  7.11,  0.00 wt-->delta-crp Condition: glycerol, NH4Cl, O2 Peak: 2350199-2350400 value:9544.40,\n",
        " TF: Crp, Gene: (glpT, b2240),  7.11,  0.00 wt-->delta-crp Condition: glycerol, NH4Cl, O2 Peak: 2350370-2350571 value:13455.50,\n",
        " TF: Crp, Gene: (glpT, b2240),  7.11,  0.00 wt-->delta-crp Condition: glycerol, NH4Cl, O2 Peak: 2350378-2350579 value:15475.90,\n",
        " TF: Crp, Gene: (glpT, b2240),  7.11,  0.00 wt-->delta-crp Condition: glycerol, NH4Cl, O2 Peak: 2350513-2350714 value:23854.80]"
       ]
      }
     ],
     "prompt_number": 21
    },
    {
     "cell_type": "code",
     "collapsed": false,
     "input": [
      "session.query(ChIPPeakGene).limit(20).all()"
     ],
     "language": "python",
     "metadata": {},
     "outputs": [
      {
       "metadata": {},
       "output_type": "pyout",
       "prompt_number": 3,
       "text": [
        "[]"
       ]
      }
     ],
     "prompt_number": 3
    },
    {
     "cell_type": "code",
     "collapsed": false,
     "input": [
      "np.log10(.05)"
     ],
     "language": "python",
     "metadata": {},
     "outputs": [
      {
       "metadata": {},
       "output_type": "pyout",
       "prompt_number": 3,
       "text": [
        "-1.3010299956639813"
       ]
      }
     ],
     "prompt_number": 3
    },
    {
     "cell_type": "code",
     "collapsed": false,
     "input": [
      "for chip_peak_analysis in session.query(ChIPPeakAnalysis).all():\n",
      "    print session.query(ChIPPeakData).filter(ChIPPeakData.dataset_id == chip_peak_analysis.id).count(),'\\t',chip_peak_analysis.name,chip_peak_analysis.parameters[]"
     ],
     "language": "python",
     "metadata": {},
     "outputs": [
      {
       "output_type": "stream",
       "stream": "stdout",
       "text": [
        "129 \tChIPExo-Crp_wt_fructose_NH4Cl_O2_anti-crp_default_peaks {\"k_max\": 22, \"k_min\": 4, \"k_win\": 150, \"outNP\": \"\", \"smooth\": 3, \"nrf\": \"\", \"nf\": \"\", \"mrc\": 20} 1169 \tChIPExo-RpoD_wt_fructose_NH4Cl_O2_anti-rpod_default_peaks {\"k_max\": 22, \"k_min\": 4, \"k_win\": 150, \"outNP\": \"\", \"smooth\": 3, \"nrf\": \"\", \"nf\": \"\", \"mrc\": 20} 161 \tChIPExo-Crp_wt_glycerol_NH4Cl_O2_anti-crp_default_peaks {\"k_max\": 22, \"k_min\": 4, \"k_win\": 150, \"outNP\": \"\", \"smooth\": 3, \"nrf\": \"\", \"nf\": \"\", \"mrc\": 20} 1151 \tChIPExo-RpoD_wt_glycerol_NH4Cl_O2_anti-rpod_default_peaks {\"k_max\": 22, \"k_min\": 4, \"k_win\": 150, \"outNP\": \"\", \"smooth\": 3, \"nrf\": \"\", \"nf\": \"\", \"mrc\": 20} 16 \tChIPExo-Crp_wt_glucose_NH4Cl_O2_anti-crp_default_peaks {\"k_max\": 22, \"k_min\": 4, \"k_win\": 150, \"outNP\": \"\", \"smooth\": 3, \"nrf\": \"\", \"nf\": \"\", \"mrc\": 20} 121 \tChIPExo-RpoA_wt_glucose_NH4Cl_O2_anti-rpoA_default_peaks {\"k_max\": 22, \"k_min\": 4, \"k_win\": 150, \"outNP\": \"\", \"smooth\": 3, \"nrf\": \"\", \"nf\": \"\", \"mrc\": 20} 899 \tChIPExo-RpoD_wt_glucose_NH4Cl_O2_anti-rpod_default_peaks {\"k_max\": 22, \"k_min\": 4, \"k_win\": 150, \"outNP\": \"\", \"smooth\": 3, \"nrf\": \"\", \"nf\": \"\", \"mrc\": 20} 68 \tChIPExo-Crp_wt_glycerol_NH4Cl_O2_anti-crp_rif_default_peaks {\"k_max\": 22, \"k_min\": 4, \"k_win\": 150, \"outNP\": \"\", \"smooth\": 3, \"nrf\": \"\", \"nf\": \"\", \"mrc\": 20} 171 \tChIPExo-ArcA_ArcA8myc_glucose_NH4Cl_anaerobic_anti-myc_default_peaks {\"k_max\": 22, \"k_min\": 4, \"k_win\": 150, \"outNP\": \"\", \"smooth\": 3, \"nrf\": \"\", \"nf\": \"\", \"mrc\": 20} 0 \tChIPchip-ArcA_ArcA8myc_glucose_NH4CL_anaerobic_anti-myc_default_peaks {\"k_max\": 22, \"k_min\": 4, \"k_win\": 150, \"outNP\": \"\", \"smooth\": 3, \"nrf\": \"\", \"nf\": \"\", \"mrc\": 20} 0 \tChIPchip-ArcA_ArcA8myc_glucose_NH4CL_NO3_anti-myc_default_peaks {\"k_max\": 22, \"k_min\": 4, \"k_win\": 150, \"outNP\": \"\", \"smooth\": 3, \"nrf\": \"\", \"nf\": \"\", \"mrc\": 20} 31 \tChIPExo-Crp_Ar3_glycerol_NH4Cl_O2_anti-crp_default_peaks {\"k_max\": 22, \"k_min\": 4, \"k_win\": 150, \"outNP\": \"\", \"smooth\": 3, \"nrf\": \"\", \"nf\": \"\", \"mrc\": 20} "
       ]
      },
      {
       "output_type": "stream",
       "stream": "stdout",
       "text": [
        "35 \tChIPExo-Crp_Crp8myc_fructose_NH4Cl_O2_anti-crp_default_peaks {\"k_max\": 22, \"k_min\": 4, \"k_win\": 150, \"outNP\": \"\", \"smooth\": 3, \"nrf\": \"\", \"nf\": \"\", \"mrc\": 20} 18 \tChIPExo-Crp_Crp8myc_fructose_NH4Cl_O2_anti-myc_default_peaks {\"k_max\": 22, \"k_min\": 4, \"k_win\": 150, \"outNP\": \"\", \"smooth\": 3, \"nrf\": \"\", \"nf\": \"\", \"mrc\": 20} 42 \tChIPExo-Crp_Crp8myc_glycerol_NH4Cl_O2_anti-crp_default_peaks {\"k_max\": 22, \"k_min\": 4, \"k_win\": 150, \"outNP\": \"\", \"smooth\": 3, \"nrf\": \"\", \"nf\": \"\", \"mrc\": 20} 48 \tChIPExo-Crp_Crp8myc_glycerol_NH4Cl_O2_anti-myc_default_peaks {\"k_max\": 22, \"k_min\": 4, \"k_win\": 150, \"outNP\": \"\", \"smooth\": 3, \"nrf\": \"\", \"nf\": \"\", \"mrc\": 20} 36 \tChIPExo-Crp_Crp8myc_glucose_NH4Cl_O2_anti-myc_default_peaks {\"k_max\": 22, \"k_min\": 4, \"k_win\": 150, \"outNP\": \"\", \"smooth\": 3, \"nrf\": \"\", \"nf\": \"\", \"mrc\": 20} 0 \tChIPchip-Crp_Crp8myc_acetate_NH4CL_O2_anti-myc_default_peaks {\"k_max\": 22, \"k_min\": 4, \"k_win\": 150, \"outNP\": \"\", \"smooth\": 3, \"nrf\": \"\", \"nf\": \"\", \"mrc\": 20} 0 \tChIPchip-Crp_Crp8myc_fructose_NH4CL_O2_anti-myc_default_peaks {\"k_max\": 22, \"k_min\": 4, \"k_win\": 150, \"outNP\": \"\", \"smooth\": 3, \"nrf\": \"\", \"nf\": \"\", \"mrc\": 20} 86 \tChIPExo-Crp_delAr1_glycerol_NH4Cl_O2_anti-crp_default_peaks {\"k_max\": 22, \"k_min\": 4, \"k_win\": 150, \"outNP\": \"\", \"smooth\": 3, \"nrf\": \"\", \"nf\": \"\", \"mrc\": 20} 35 \tChIPExo-Crp_delAr1delAr2_glycerol_NH4Cl_O2_anti-crp_default_peaks {\"k_max\": 22, \"k_min\": 4, \"k_win\": 150, \"outNP\": \"\", \"smooth\": 3, \"nrf\": \"\", \"nf\": \"\", \"mrc\": 20} 21 \tChIPExo-Crp_delAr2_glycerol_NH4Cl_O2_anti-crp_default_peaks {\"k_max\": 22, \"k_min\": 4, \"k_win\": 150, \"outNP\": \"\", \"smooth\": 3, \"nrf\": \"\", \"nf\": \"\", \"mrc\": 20} 10 \tChIPExo-Crp_delta-crp_glycerol_NH4Cl_O2_anti-crp_default_peaks {\"k_max\": 22, \"k_min\": 4, \"k_win\": 150, \"outNP\": \"\", \"smooth\": 3, \"nrf\": \"\", \"nf\": \"\", \"mrc\": 20} 52 \tChIPExo-Fnr_Fnr8myc_glucose_NH4Cl_anaerobic_anti-myc_default_peaks {\"k_max\": 22, \"k_min\": 4, \"k_win\": 150, \"outNP\": \"\", \"smooth\": 3, \"nrf\": \"\", \"nf\": \"\", \"mrc\": 20} 0 \tChIPchip-Fnr_Fnr8myc_glucose_NH4CL_anaerobic_anti-myc_default_peaks {\"k_max\": 22, \"k_min\": 4, \"k_win\": 150, \"outNP\": \"\", \"smooth\": 3, \"nrf\": \"\", \"nf\": \"\", \"mrc\": 20} 0 \tChIPchip-Fnr_Fnr8myc_glucose_NH4CL_NO3_anti-myc_default_peaks {\"k_max\": 22, \"k_min\": 4, \"k_win\": 150, \"outNP\": \"\", \"smooth\": 3, \"nrf\": \"\", \"nf\": \"\", \"mrc\": 20} "
       ]
      },
      {
       "output_type": "stream",
       "stream": "stdout",
       "text": [
        "0 \tChIPchip-ArgR_ArgR8myc_glucose_NH4Cl_O2_anti-myc_default_peaks {\"k_max\": 22, \"k_min\": 4, \"k_win\": 150, \"outNP\": \"\", \"smooth\": 3, \"nrf\": \"\", \"nf\": \"\", \"mrc\": 20} 0 \tChIPchip-Cra_Cra8myc_glucose_NH4CL_anaerobic_anti-myc_default_peaks {\"k_max\": 22, \"k_min\": 4, \"k_win\": 150, \"outNP\": \"\", \"smooth\": 3, \"nrf\": \"\", \"nf\": \"\", \"mrc\": 20} 0 \tChIPchip-Cra_Cra8myc_acetate_NH4CL_O2_anti-myc_default_peaks {\"k_max\": 22, \"k_min\": 4, \"k_win\": 150, \"outNP\": \"\", \"smooth\": 3, \"nrf\": \"\", \"nf\": \"\", \"mrc\": 20} 0 \tChIPchip-Cra_Cra8myc_glucose_NH4CL_O2_anti-myc_default_peaks {\"k_max\": 22, \"k_min\": 4, \"k_win\": 150, \"outNP\": \"\", \"smooth\": 3, \"nrf\": \"\", \"nf\": \"\", \"mrc\": 20} 0 \tChIPchip-Lrp_Lrp8myc_glucose_NH4Cl_O2_anti-myc_default_peaks {\"k_max\": 22, \"k_min\": 4, \"k_win\": 150, \"outNP\": \"\", \"smooth\": 3, \"nrf\": \"\", \"nf\": \"\", \"mrc\": 20} 0 \tChIPchip-PurR_PurR8myc_glucose_NH4Cl_O2_anti-myc_default_peaks {\"k_max\": 22, \"k_min\": 4, \"k_win\": 150, \"outNP\": \"\", \"smooth\": 3, \"nrf\": \"\", \"nf\": \"\", \"mrc\": 20}\n"
       ]
      }
     ],
     "prompt_number": 3
    },
    {
     "cell_type": "code",
     "collapsed": false,
     "input": [],
     "language": "python",
     "metadata": {},
     "outputs": []
    }
   ],
   "metadata": {}
  }
 ]
}